{
 "cells": [
  {
   "cell_type": "markdown",
   "metadata": {
    "id": "WfGpInivS0fG"
   },
   "source": [
    "<h2 align=\"center\">点击下列图标在线运行HanLP</h2>\n",
    "<div align=\"center\">\n",
    "\t<a href=\"https://colab.research.google.com/github/hankcs/HanLP/blob/doc-zh/plugins/hanlp_demo/hanlp_demo/zh/con_restful.ipynb\" target=\"_blank\"><img src=\"https://colab.research.google.com/assets/colab-badge.svg\" alt=\"Open In Colab\"/></a>\n",
    "\t<a href=\"https://mybinder.org/v2/gh/hankcs/HanLP/doc-zh?filepath=plugins%2Fhanlp_demo%2Fhanlp_demo%2Fzh%2Fcon_restful.ipynb\" target=\"_blank\"><img src=\"https://mybinder.org/badge_logo.svg\" alt=\"Open In Binder\"/></a>\n",
    "</div>\n",
    "\n",
    "## 安装"
   ]
  },
  {
   "cell_type": "markdown",
   "metadata": {
    "id": "IYwV-UkNNzFp"
   },
   "source": [
    "无论是Windows、Linux还是macOS，HanLP的安装只需一句话搞定："
   ]
  },
  {
   "cell_type": "code",
   "execution_count": null,
   "metadata": {
    "id": "1Uf_u7ddMhUt"
   },
   "outputs": [],
   "source": [
    "!pip install hanlp_restful -U"
   ]
  },
  {
   "cell_type": "markdown",
   "metadata": {
    "id": "pp-1KqEOOJ4t"
   },
   "source": [
    "## 创建客户端"
   ]
  },
  {
   "cell_type": "code",
   "execution_count": 2,
   "metadata": {
    "id": "0tmKBu7sNAXX"
   },
   "outputs": [],
   "source": [
    "from hanlp_restful import HanLPClient\n",
    "HanLP = HanLPClient('https://www.hanlp.com/api', auth=None, language='zh') # auth不填则匿名，zh中文，mul多语种"
   ]
  },
  {
   "cell_type": "markdown",
   "metadata": {
    "id": "EmZDmLn9aGxG"
   },
   "source": [
    "#### 申请秘钥\n",
    "由于服务器算力有限，匿名用户每分钟限2次调用。如果你需要更多调用次数，[建议申请免费公益API秘钥auth](https://bbs.hanlp.com/t/hanlp2-1-restful-api/53)。"
   ]
  },
  {
   "cell_type": "markdown",
   "metadata": {
    "id": "elA_UyssOut_"
   },
   "source": [
    "## 短语句法分析\n",
    "任务越少，速度越快。如指定仅执行短语句法分析："
   ]
  },
  {
   "cell_type": "code",
   "execution_count": 16,
   "metadata": {
    "colab": {
     "base_uri": "https://localhost:8080/",
     "height": 70
    },
    "id": "BqEmDMGGOtk3",
    "outputId": "2a0d392f-b99a-4a18-fc7f-754e2abe2e34"
   },
   "outputs": [],
   "source": [
    "doc = HanLP('2021年HanLPv2.1为生产环境带来次世代最先进的多语种NLP技术。', tasks='con')"
   ]
  },
  {
   "cell_type": "markdown",
   "metadata": {},
   "source": [
    "返回值为一个[Document](https://hanlp.hankcs.com/docs/api/common/document.html):"
   ]
  },
  {
   "cell_type": "code",
   "execution_count": 17,
   "metadata": {},
   "outputs": [
    {
     "name": "stdout",
     "output_type": "stream",
     "text": [
      "{\n",
      "  \"tok/fine\": [\n",
      "    [\"2021年\", \"HanLPv2.1\", \"为\", \"生产\", \"环境\", \"带来\", \"次\", \"世代\", \"最\", \"先进\", \"的\", \"多\", \"语种\", \"NLP\", \"技术\", \"。\"]\n",
      "  ],\n",
      "  \"con\": [\n",
      "    [\"TOP\", [[\"IP\", [[\"NP\", [[\"_\", [\"2021年\"]]]], [\"NP\", [[\"_\", [\"HanLPv2.1\"]]]], [\"VP\", [[\"PP\", [[\"_\", [\"为\"]], [\"NP\", [[\"_\", [\"生产\"]], [\"_\", [\"环境\"]]]]]], [\"VP\", [[\"_\", [\"带来\"]], [\"NP\", [[\"IP\", [[\"VP\", [[\"NP\", [[\"QP\", [[\"CLP\", [[\"_\", [\"次\"]]]]]], [\"NP\", [[\"_\", [\"世代\"]]]]]], [\"ADVP\", [[\"_\", [\"最\"]]]], [\"VP\", [[\"_\", [\"先进\"]]]]]]]], [\"_\", [\"的\"]], [\"NP\", [[\"QP\", [[\"_\", [\"多\"]]]], [\"NP\", [[\"_\", [\"语种\"]]]]]], [\"NP\", [[\"_\", [\"NLP\"]], [\"_\", [\"技术\"]]]]]]]]]], [\"_\", [\"。\"]]]]]]\n",
      "  ]\n",
      "}\n"
     ]
    }
   ],
   "source": [
    "print(doc)"
   ]
  },
  {
   "cell_type": "markdown",
   "metadata": {},
   "source": [
    "`doc['con']`为Tree类型，是list的子类。"
   ]
  },
  {
   "cell_type": "markdown",
   "metadata": {
    "id": "wxctCigrTKu-"
   },
   "source": [
    "可视化短语句法树："
   ]
  },
  {
   "cell_type": "code",
   "execution_count": 18,
   "metadata": {
    "colab": {
     "base_uri": "https://localhost:8080/"
    },
    "id": "Zo08uquCTFSk",
    "outputId": "c6077f2d-7084-4f4b-a3bc-9aa9951704ea"
   },
   "outputs": [
    {
     "name": "stdout",
     "output_type": "stream",
     "text": [
      "Token    \tP    3       4       5       6       7       8       9       10      11\n",
      "─────────\t───────────────────────────────────────────────────────────────────────\n",
      "2021年    \t_───────────────────────────────────────────────────────────►NP ───┐   \n",
      "HanLPv2.1\t_───────────────────────────────────────────────────────────►NP────┤   \n",
      "为        \t_──────────┐                                                       │   \n",
      "生产       \t_──┐       ├────────────────────────────────────────►PP ───┐       │   \n",
      "环境       \t_──┴►NP ───┘                                               │       │   \n",
      "带来       \t_──────────────────────────────────────────────────┐       │       │   \n",
      "次        \t_───►CLP ───►QP ───┐                               │       ├►VP────┤   \n",
      "世代       \t_───────────►NP ───┴►NP ───┐                       │       │       │   \n",
      "最        \t_───────────────────►ADVP──┼►VP ────►IP ───┐       ├►VP ───┘       ├►IP\n",
      "先进       \t_───────────────────►VP ───┘               │       │               │   \n",
      "的        \t_──────────────────────────────────────────┤       │               │   \n",
      "多        \t_───►QP ───┐                               ├►NP ───┘               │   \n",
      "语种       \t_───►NP ───┴────────────────────────►NP────┤                       │   \n",
      "NLP      \t_──┐                                       │                       │   \n",
      "技术       \t_──┴────────────────────────────────►NP ───┘                       │   \n",
      "。        \t_──────────────────────────────────────────────────────────────────┘   \n"
     ]
    }
   ],
   "source": [
    "doc.pretty_print()"
   ]
  },
  {
   "cell_type": "markdown",
   "metadata": {},
   "source": [
    "转换为bracketed格式："
   ]
  },
  {
   "cell_type": "code",
   "execution_count": 19,
   "metadata": {},
   "outputs": [
    {
     "name": "stdout",
     "output_type": "stream",
     "text": [
      "(TOP\n",
      "  (IP\n",
      "    (NP (_ 2021年))\n",
      "    (NP (_ HanLPv2.1))\n",
      "    (VP\n",
      "      (PP (_ 为) (NP (_ 生产) (_ 环境)))\n",
      "      (VP\n",
      "        (_ 带来)\n",
      "        (NP\n",
      "          (IP\n",
      "            (VP\n",
      "              (NP (QP (CLP (_ 次))) (NP (_ 世代)))\n",
      "              (ADVP (_ 最))\n",
      "              (VP (_ 先进))))\n",
      "          (_ 的)\n",
      "          (NP (QP (_ 多)) (NP (_ 语种)))\n",
      "          (NP (_ NLP) (_ 技术)))))\n",
      "    (_ 。)))\n"
     ]
    }
   ],
   "source": [
    "print(doc['con'][0])"
   ]
  },
  {
   "cell_type": "markdown",
   "metadata": {
    "id": "XOsWkOqQfzlr"
   },
   "source": [
    "为已分词的句子执行短语句法分析："
   ]
  },
  {
   "cell_type": "code",
   "execution_count": 20,
   "metadata": {
    "colab": {
     "base_uri": "https://localhost:8080/",
     "height": 70
    },
    "id": "bLZSTbv_f3OA",
    "outputId": "111c0be9-bac6-4eee-d5bd-a972ffc34844"
   },
   "outputs": [
    {
     "name": "stdout",
     "output_type": "stream",
     "text": [
      "Token\tP    3       4       5       6       7       8       9       10      11      12\n",
      "─────\t───────────────────────────────────────────────────────────────────────────────\n",
      "hanlp\t_───────────────────────────────────────────────────────────────────►NP ───┐   \n",
      "为    \t_──────────┐                                                               │   \n",
      "生产   \t_──┐       ├────────────────────────────────────────────────►PP ───┐       │   \n",
      "环境   \t_──┴►NP ───┘                                                       │       │   \n",
      "带来   \t_──────────────────────────────────────────────────────────┐       │       │   \n",
      "次世代  \t_───────────►NP ───┐                                       │       ├►VP────┤   \n",
      "最    \t_───►ADVP──┐       ├►VP ────►IP ───┐                       │       │       ├►IP\n",
      "先进   \t_───►VP ───┴►VP ───┘               ├►CP ────►CP ───┐       ├►VP ───┘       │   \n",
      "的    \t_──────────────────────────────────┘               │       │               │   \n",
      "多语种  \t_──────────────────────────────────────────────────┼►NP ───┘               │   \n",
      "nlp  \t_───►NP ───┐                                       │                       │   \n",
      "技术   \t_───►NP ───┴────────────────────────────────►NP ───┘                       │   \n",
      "。    \t_──────────────────────────────────────────────────────────────────────────┘   \n",
      "\n",
      "Tok\tP    3       4       5       6       7       8       9       10      11\n",
      "───\t───────────────────────────────────────────────────────────────────────\n",
      "我  \t_───►NP ───┐                                                           \n",
      "的  \t_──────────┴►DNP ──┐                                                   \n",
      "希望 \t_───────────►NP ───┴────────────────────────────────────────►NP ───┐   \n",
      "是  \t_──────────────────────────────────────────────────────────┐       │   \n",
      "希望 \t_──────────────────────────────────────────┐               │       │   \n",
      "张晚霞\t_───►NP ───┐                               │               ├►VP────┤   \n",
      "的  \t_──────────┴►DNP ──┐                       ├►VP ────►IP ───┘       │   \n",
      "背影 \t_───────────►NP ───┴────────►NP ───┐       │                       ├►IP\n",
      "被  \t_──────────────────────────┐       ├►IP ───┘                       │   \n",
      "晚霞 \t_───►NP ───┐               ├►VP ───┘                               │   \n",
      "映红 \t_───►VP ───┴►IP ────►CP ───┘                                       │   \n",
      "。  \t_──────────────────────────────────────────────────────────────────┘   \n"
     ]
    }
   ],
   "source": [
    "HanLP(tokens=[\n",
    "    [\"HanLP\", \"为\", \"生产\", \"环境\", \"带来\", \"次世代\", \"最\", \"先进\", \"的\", \"多语种\", \"NLP\", \"技术\", \"。\"],\n",
    "    [\"我\", \"的\", \"希望\", \"是\", \"希望\", \"张晚霞\", \"的\", \"背影\", \"被\", \"晚霞\", \"映红\", \"。\"]\n",
    "  ], tasks='con').pretty_print()"
   ]
  },
  {
   "cell_type": "code",
   "execution_count": null,
   "metadata": {},
   "outputs": [],
   "source": []
  }
 ],
 "metadata": {
  "accelerator": "GPU",
  "colab": {
   "collapsed_sections": [],
   "name": "con_restful.ipynb",
   "provenance": []
  },
  "kernelspec": {
   "display_name": "Python 3 (ipykernel)",
   "language": "python",
   "name": "python3"
  },
  "language_info": {
   "codemirror_mode": {
    "name": "ipython",
    "version": 3
   },
   "file_extension": ".py",
   "mimetype": "text/x-python",
   "name": "python",
   "nbconvert_exporter": "python",
   "pygments_lexer": "ipython3",
   "version": "3.8.12"
  }
 },
 "nbformat": 4,
 "nbformat_minor": 1
}
